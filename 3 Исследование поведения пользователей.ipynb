{
 "cells": [
  {
   "cell_type": "markdown",
   "metadata": {},
   "source": [
    "# PROJECT-3. Анализ воронки \n",
    "\n",
    "\n",
    "### Автор: Нечаев Сергей.  \n",
    "### SkillFactory: SDA-3.0 Полный курс по анализу данных. "
   ]
  },
  {
   "cell_type": "markdown",
   "metadata": {},
   "source": [
    "### ЦЕЛЬ\n",
    "#### Исследовать поведение пользователей в обновлённом приложении.\n",
    "\n",
    "### ЗАДАЧИ\n",
    "В рамках проверки гипотез вам необходимо решить три задачи:\n",
    "\n",
    "##### 1. Определить, насколько обучение сокращает время прохождения этапов игры.\n",
    "##### 2. Доказать, что успешное обучение само по себе влияет на оплату и не имеет значения то, каким этапом оно шло.\n",
    "##### 3. Определить, насколько прозрачен процесс взаимодействия с игрой.\n",
    "\n",
    "### КОНКРЕТНЫЕ ШАГИ (ФОРМАЛИЗОВАННЫЕ ЗАДАЧИ)\n",
    "##### 1. Сравнить время прохождения различных этапов для пользователей, которые прошли обучение, и пользователей, не начинавших обучение. Если показатель отличается, выяснить, насколько.\n",
    "##### 2. Проверить, существует ли зависимость между вероятностью оплаты вопросов и количеством обучений, которые начинал или завершал пользователь. \n",
    "##### 3. Выяснить, как часто пользователи начинают обучение после выбора уровня сложности. (Это позволит оценить прозрачность процесса взаимодействия с игрой: если пользователи после выбора уровня сложности обращаются к обучению, значит, работа с приложением непонятна.)"
   ]
  },
  {
   "cell_type": "markdown",
   "metadata": {},
   "source": [
    "### ИСХОДНЫЕ ДАННЫЕ\n",
    "#### Таблица Event.  \n",
    "Хранит данные о событиях, которые совершают пользователи. По сути, каждое событие — это факт прохождения пользователем какого-либо этапа игры.   \n",
    "\n",
    "Название поля:          Описание   \n",
    "id:                  идентификатор события    \n",
    "user_id:\t            уникальный идентификатор пользователя, совершившего событие в приложении   \n",
    "start_time:          дата и время события   \n",
    "event_type:\t        тип события  (значения: registration — регистрация; tutorial_start — начало обучения; tutorial_finish — завершение обучения;  \n",
    "                    level_choice — выбор уровня сложности; pack_choice — выбор пакетов вопросов)\n",
    "tutorial_id:\t        идентификатор обучения (этот идентификатор есть только у событий обучения)\n",
    "selected_level:\t    выбранный уровень сложности обучения\n",
    "\n",
    "#### Таблица purchase  \n",
    "Хранит данные об оплатах, которые совершают пользователи.  \n",
    "\n",
    "Название поля:\t    Описание   \n",
    "id:\t                идентификатор события   \n",
    "user_id:            уникальный идентификатор пользователя, совершившего событие в приложении  \n",
    "event_datetime:  \tдата и время события/покупки  \n",
    "amount:\t            сумма оплаты   \n"
   ]
  },
  {
   "cell_type": "markdown",
   "metadata": {},
   "source": [
    "ПОСЛЕДОВАТЕЛЬНОСТЬ ДЕЙСТВИЙ \n",
    "\n",
    "0. Загрузить, проверить корректность загрузки, преобразовать исходные данные.   \n",
    "    0.1. Загрузить исходные данные таблицы Event, проверить структуру данных.   \n",
    "    0.2. Сделать срез данных по пользователям, зарегистрированным в 2018 году.    \n",
    "    0.3. Проверить корректность данных в таблице Event по \"контрольным точкам\".    \n",
    "    0.4. Загрузить исходные данные таблицы purchase, проверить структуру данных, сделать срез по 2018 году.   \n",
    "    0.5. Проверить корректность данных в таблице purchase по \"контрольным точкам\".   \n",
    "    0.6. Объединить таблицы в единый датафрейм, убрать лишние столбцы, преобразовать даты.     \n",
    "\n",
    "1. Сравнить время прохождения различных этапов для пользователей, которые завершили обучение, и пользователей, не начинавших обучение. Если показатель отличается, выяснить, насколько.    \n",
    "    1.1. Выделить группы пользователей: обучавшихся (начавших и завершивших или не завершивших обучение) -группа А и НЕ начинавших обучение -группа В.   \n",
    "    1.2. Определить среднее время прохождения различных этапов игры пользователями групп А и В.     \n",
    "    1.3. Построить графики сравнения времени прохождения каждого этапа игры в группах А и В.   \n",
    "    1.4. Сравнить, сделать выводы о влиянии обучения на скорость прохождения игры.\n",
    " \n",
    "2. Проверить, существует ли зависимость между вероятностью оплаты вопросов и количеством обучений, которые начинал или завершал пользователь.   \n",
    "    2.1. Выделить группы пользователей, которые хотя бы один раз начинали обучение, разбить на группы по количеству обучений (количество фактов начала обучения).   \n",
    "    2.2. Посчитать внутри каждой группы долю оплативших за вопросы хотя бы один раз (кол-во оплативших пользователей / кол-во всех пользователей в группе).  \n",
    "    2.3. Сравнить полученные данные на графике (диаграмме), сделать выводы\n",
    "\n",
    "3. Выяснить, как часто пользователи начинают обучение после выбора уровня сложности.    \n",
    "    3.1. Посчитать все случаи выбора обучения и все случаи выбора уровня сложности.  \n",
    "    3.2. Посчитать события выбора уровня сложности РАНЬШЕ начала обучения.   \n",
    "    3.3. Определить долю таких случаев в общем количестве случаев выбора уровня и в общем количестве случаев обучения. Сделать выводы\n",
    "\n"
   ]
  },
  {
   "cell_type": "markdown",
   "metadata": {},
   "source": [
    "0. Загрузка, проверка корректности загрузки, преобразование исходных данных  \n"
   ]
  },
  {
   "cell_type": "markdown",
   "metadata": {},
   "source": [
    "0. \n",
    "   1. Загрузим исходные данные таблицы Event, проверим структуру данных.  "
   ]
  },
  {
   "cell_type": "code",
   "execution_count": 1,
   "metadata": {},
   "outputs": [],
   "source": [
    "import pandas as pd\n",
    "# Загружаем исходные данные, смотрим структуру,   \n",
    "events_df = pd.read_csv('D:\\Sergey\\SkillFactory\\IDE\\date/7_4_Events.csv')\n",
    "#смотрим структуру таблицы\n",
    "# events_df.info()"
   ]
  },
  {
   "cell_type": "code",
   "execution_count": 2,
   "metadata": {},
   "outputs": [],
   "source": [
    "# смотрим выборку первых строк таблицы\n",
    "# events_df.head()"
   ]
  },
  {
   "cell_type": "markdown",
   "metadata": {},
   "source": [
    "0. \n",
    "   2. Сделаем срез данных по пользователям, зарегистрированным в 2018 году.    "
   ]
  },
  {
   "cell_type": "code",
   "execution_count": 3,
   "metadata": {},
   "outputs": [
    {
     "data": {
      "text/html": [
       "<div>\n",
       "<style scoped>\n",
       "    .dataframe tbody tr th:only-of-type {\n",
       "        vertical-align: middle;\n",
       "    }\n",
       "\n",
       "    .dataframe tbody tr th {\n",
       "        vertical-align: top;\n",
       "    }\n",
       "\n",
       "    .dataframe thead th {\n",
       "        text-align: right;\n",
       "    }\n",
       "</style>\n",
       "<table border=\"1\" class=\"dataframe\">\n",
       "  <thead>\n",
       "    <tr style=\"text-align: right;\">\n",
       "      <th></th>\n",
       "      <th>id</th>\n",
       "      <th>event_type</th>\n",
       "      <th>selected_level</th>\n",
       "      <th>start_time</th>\n",
       "      <th>tutorial_id</th>\n",
       "      <th>user_id</th>\n",
       "    </tr>\n",
       "  </thead>\n",
       "  <tbody>\n",
       "    <tr>\n",
       "      <th>51405</th>\n",
       "      <td>80308</td>\n",
       "      <td>registration</td>\n",
       "      <td>NaN</td>\n",
       "      <td>2018-01-01T03:48:40</td>\n",
       "      <td>NaN</td>\n",
       "      <td>27832</td>\n",
       "    </tr>\n",
       "    <tr>\n",
       "      <th>51406</th>\n",
       "      <td>80309</td>\n",
       "      <td>registration</td>\n",
       "      <td>NaN</td>\n",
       "      <td>2018-01-01T04:07:25</td>\n",
       "      <td>NaN</td>\n",
       "      <td>27833</td>\n",
       "    </tr>\n",
       "    <tr>\n",
       "      <th>51407</th>\n",
       "      <td>80310</td>\n",
       "      <td>registration</td>\n",
       "      <td>NaN</td>\n",
       "      <td>2018-01-01T08:35:10</td>\n",
       "      <td>NaN</td>\n",
       "      <td>27834</td>\n",
       "    </tr>\n",
       "    <tr>\n",
       "      <th>51408</th>\n",
       "      <td>80311</td>\n",
       "      <td>registration</td>\n",
       "      <td>NaN</td>\n",
       "      <td>2018-01-01T11:54:47</td>\n",
       "      <td>NaN</td>\n",
       "      <td>27835</td>\n",
       "    </tr>\n",
       "    <tr>\n",
       "      <th>51409</th>\n",
       "      <td>80312</td>\n",
       "      <td>registration</td>\n",
       "      <td>NaN</td>\n",
       "      <td>2018-01-01T13:28:07</td>\n",
       "      <td>NaN</td>\n",
       "      <td>27836</td>\n",
       "    </tr>\n",
       "  </tbody>\n",
       "</table>\n",
       "</div>"
      ],
      "text/plain": [
       "          id    event_type selected_level           start_time  tutorial_id  \\\n",
       "51405  80308  registration            NaN  2018-01-01T03:48:40          NaN   \n",
       "51406  80309  registration            NaN  2018-01-01T04:07:25          NaN   \n",
       "51407  80310  registration            NaN  2018-01-01T08:35:10          NaN   \n",
       "51408  80311  registration            NaN  2018-01-01T11:54:47          NaN   \n",
       "51409  80312  registration            NaN  2018-01-01T13:28:07          NaN   \n",
       "\n",
       "       user_id  \n",
       "51405    27832  \n",
       "51406    27833  \n",
       "51407    27834  \n",
       "51408    27835  \n",
       "51409    27836  "
      ]
     },
     "execution_count": 3,
     "metadata": {},
     "output_type": "execute_result"
    }
   ],
   "source": [
    "# проверяем на корректность (для проверки используем \"контрольные точки\" выполненных заданий Модуля 38) \n",
    "# Для отбора из исходной таблицы данных по пользователям, зарегистрированным в 2018 году, воспользуемся вспомогательной функцией поиска года по шаблону\n",
    "import re \n",
    "def get_year_release(arg):\n",
    "    #находим все слова по шаблону \"DDDD-\"\n",
    "    candidates = re.findall(r'\\d{4}\\-', arg) \n",
    "    # проверяем число вхождений\n",
    "    if len(candidates) > 0:\n",
    "        #если число вхождений больше 0,\n",
    "\t#очищаем строку от знака \"-\"\n",
    "        year = candidates[0].replace('-', '')\n",
    "        return int(year)\n",
    "    else:\n",
    "        #если год не указан, возвращаем None\n",
    "        return None\n",
    "    \n",
    "# введем вспомогательный столбец с годом start_year, применив нашу функцию к столбцу с датой  start_time нашего дата фрейма events_df\n",
    "events_df['start_year'] = events_df['start_time'].apply(get_year_release)\n",
    "# фильтруем и создаем список попользователей, зарегистирированных в 2018 году \n",
    "mask1 = events_df['start_year'] == 2018\n",
    "mask2 = events_df['event_type'] == 'registration'\n",
    "users_2018 = events_df[mask1 & mask2]['user_id'].to_list()\n",
    "# снова фильтруем таблицу, оставляя только строки с пользователями, зарегистрированными в 2018 году\n",
    "events_df  = events_df[events_df['user_id'].isin(users_2018)]\n",
    "# теперь можно удалить вспомогательный столбец start_year\n",
    "events_df.drop(['start_year'], axis=1, inplace=True)\n",
    "events_df.head()"
   ]
  },
  {
   "cell_type": "markdown",
   "metadata": {},
   "source": [
    "0. \n",
    "   3. Проверим корректность данных в таблице Event по \"контрольным точкам\".  "
   ]
  },
  {
   "cell_type": "code",
   "execution_count": 4,
   "metadata": {},
   "outputs": [
    {
     "data": {
      "text/plain": [
       "(66959, 6)"
      ]
     },
     "execution_count": 4,
     "metadata": {},
     "output_type": "execute_result"
    }
   ],
   "source": [
    "# Проверим, сколько строк в таблице? \n",
    "events_df.shape\n",
    "# Контрольная точка 1:    Должно быть  66959 строк"
   ]
  },
  {
   "cell_type": "code",
   "execution_count": 5,
   "metadata": {},
   "outputs": [
    {
     "data": {
      "text/plain": [
       "19926"
      ]
     },
     "execution_count": 5,
     "metadata": {},
     "output_type": "execute_result"
    }
   ],
   "source": [
    "# Сколько уникальных пользователей совершали события в 2018 году?\n",
    "events_df['user_id'].nunique()\n",
    "# Контрольная точка 2:  Должно быть 19926"
   ]
  },
  {
   "cell_type": "code",
   "execution_count": 6,
   "metadata": {},
   "outputs": [
    {
     "data": {
      "text/plain": [
       "19926"
      ]
     },
     "execution_count": 6,
     "metadata": {},
     "output_type": "execute_result"
    }
   ],
   "source": [
    "# А сколько пользователей совершают событие registration?\n",
    "events_df[events_df['event_type'] == 'registration']['user_id'].nunique()\n",
    "# Контрольная точка 3:  Должно быть 19926"
   ]
  },
  {
   "cell_type": "markdown",
   "metadata": {},
   "source": [
    "Отлично! Все пользовател прошли обязательный этап регистрации!          \n",
    "Ошибок в датафрейме events_df нет!"
   ]
  },
  {
   "cell_type": "markdown",
   "metadata": {},
   "source": [
    "0. \n",
    "   4. Загрузим исходные данные таблицы purchase, проверим структуру данных, сделаем срез по 2018 году."
   ]
  },
  {
   "cell_type": "code",
   "execution_count": 7,
   "metadata": {},
   "outputs": [],
   "source": [
    "purchase_df = pd.read_csv('D:\\Sergey\\SkillFactory\\IDE\\date/purchase.csv')\n",
    "# purchase_df.head()"
   ]
  },
  {
   "cell_type": "code",
   "execution_count": 8,
   "metadata": {},
   "outputs": [],
   "source": [
    "# purchase_df.info()"
   ]
  },
  {
   "cell_type": "code",
   "execution_count": 9,
   "metadata": {},
   "outputs": [],
   "source": [
    "# Отфильтруем  таблицу purchase_df по пользователям, зарегистрированным в 2018 году\n",
    "purchase_df  = purchase_df[purchase_df['user_id'].isin(users_2018)]\n"
   ]
  },
  {
   "cell_type": "markdown",
   "metadata": {},
   "source": [
    "0. \n",
    "   5. Проверим корректность данных в таблице purchase по \"контрольным точкам\". "
   ]
  },
  {
   "cell_type": "code",
   "execution_count": 10,
   "metadata": {},
   "outputs": [
    {
     "data": {
      "text/plain": [
       "(1600, 4)"
      ]
     },
     "execution_count": 10,
     "metadata": {},
     "output_type": "execute_result"
    }
   ],
   "source": [
    "# Сколько строк содержится в датафрейме purchase_df?    \n",
    "purchase_df.shape\n",
    "# контрольная точка 4: Должно быть 1600  "
   ]
  },
  {
   "cell_type": "code",
   "execution_count": 11,
   "metadata": {},
   "outputs": [
    {
     "name": "stdout",
     "output_type": "stream",
     "text": [
      "<class 'pandas.core.frame.DataFrame'>\n",
      "Int64Index: 1600 entries, 1171 to 2778\n",
      "Data columns (total 4 columns):\n",
      " #   Column          Non-Null Count  Dtype \n",
      "---  ------          --------------  ----- \n",
      " 0   id              1600 non-null   int64 \n",
      " 1   user_id         1600 non-null   int64 \n",
      " 2   event_datetime  1600 non-null   object\n",
      " 3   amount          1600 non-null   int64 \n",
      "dtypes: int64(3), object(1)\n",
      "memory usage: 62.5+ KB\n"
     ]
    }
   ],
   "source": [
    "# Есть ли пропущенные значения в датафрейме purchase_df?   \n",
    "purchase_df.info()\n",
    "# контрольная точка 5:     НЕТ"
   ]
  },
  {
   "cell_type": "markdown",
   "metadata": {},
   "source": [
    "Отлично!   \n",
    "Загрузка и обработка таблицы purchase проведена успешно!"
   ]
  },
  {
   "cell_type": "markdown",
   "metadata": {},
   "source": [
    "0. \n",
    "   6. Объединим таблицы в единый датафрейм, уберем лишние столбцы? преобразуем даты. "
   ]
  },
  {
   "cell_type": "code",
   "execution_count": 12,
   "metadata": {},
   "outputs": [
    {
     "name": "stdout",
     "output_type": "stream",
     "text": [
      "<class 'pandas.core.frame.DataFrame'>\n",
      "Int64Index: 68559 entries, 0 to 68558\n",
      "Data columns (total 8 columns):\n",
      " #   Column          Non-Null Count  Dtype         \n",
      "---  ------          --------------  -----         \n",
      " 0   event_id        66959 non-null  float64       \n",
      " 1   event_type      68559 non-null  object        \n",
      " 2   selected_level  8342 non-null   object        \n",
      " 3   start_time      68559 non-null  datetime64[ns]\n",
      " 4   tutorial_id     32954 non-null  float64       \n",
      " 5   user_id         68559 non-null  int64         \n",
      " 6   purchase_id     1600 non-null   float64       \n",
      " 7   amount          1600 non-null   float64       \n",
      "dtypes: datetime64[ns](1), float64(4), int64(1), object(2)\n",
      "memory usage: 4.7+ MB\n"
     ]
    },
    {
     "data": {
      "text/plain": [
       "(68559, 8)"
      ]
     },
     "execution_count": 12,
     "metadata": {},
     "output_type": "execute_result"
    }
   ],
   "source": [
    "# но перед этим создадим в датафрейме  purchase_df   столбец  event_type  и заполним его значениями   purchase\n",
    "purchase_df['event_type'] = 'purchase'\n",
    "\n",
    "# Nак как столбец id в events_df указывает на идентификатор события, а столбец id в purchase_df указывает на идентификатор оплаты? \n",
    "# применим функцию rename(), чтобы переименовать столбцы в датафреймах.\n",
    "events_df = events_df.rename(columns={\"id\": \"event_id\"})\n",
    "purchase_df = purchase_df.rename(columns={\"id\": \"purchase_id\", \"event_datetime\": \"start_time\"})\n",
    "\n",
    "# Следующим шагом объединим датафреймы events_df и purchase_df с помощью функции pd.concat() и \n",
    "# запишем объединённый датафрейм в переменную total_events_df.\n",
    "total_df = pd.concat([events_df,purchase_df],sort=False)\n",
    "\n",
    "# Переведем start_time в формат двты\n",
    "total_df['start_time'] = pd.to_datetime(total_df['start_time'] )\n",
    "    \n",
    "# Cбросим индексы объединённого датафрейма (так как после объединения они дублировались и несут мало смысла) с помощью метода reset_index() и \n",
    "# отсортируем все события по возрастанию времени с помощью sort_values().\n",
    "total_df = total_df.reset_index(drop=True).sort_values('start_time')\n",
    "\n",
    "# Смотрим иоговую обьединенную таблицу\n",
    "total_df.info()\n",
    "total_df.shape\n"
   ]
  },
  {
   "cell_type": "markdown",
   "metadata": {},
   "source": [
    "Все! Объединенная таблица готова!   \n",
    "Сделаем копию объединенного датафрейма (чтобы была возможность к ней возвращаться при необходимости)"
   ]
  },
  {
   "cell_type": "code",
   "execution_count": 13,
   "metadata": {},
   "outputs": [],
   "source": [
    "total_becup =total_df.copy()"
   ]
  },
  {
   "cell_type": "markdown",
   "metadata": {},
   "source": [
    "## Гипотеза 1"
   ]
  },
  {
   "cell_type": "markdown",
   "metadata": {},
   "source": [
    "1. Сравнить время прохождения различных этапов для пользователей, которые завершили обучение, и пользователей, не начинавших обучение. Если показатель отличается, выяснить, насколько.    "
   ]
  },
  {
   "cell_type": "markdown",
   "metadata": {},
   "source": [
    "1. \n",
    "   1. Выделим группы пользователей: обучавшихся (начавших и завершивших или не завершивших обучение) -группа А и не начинавших обучение -группа В.  "
   ]
  },
  {
   "cell_type": "code",
   "execution_count": 14,
   "metadata": {},
   "outputs": [
    {
     "name": "stdout",
     "output_type": "stream",
     "text": [
      "19926\n"
     ]
    }
   ],
   "source": [
    "p = total_df['user_id'].unique()\n",
    "print(len(p))\n"
   ]
  },
  {
   "cell_type": "code",
   "execution_count": 15,
   "metadata": {},
   "outputs": [],
   "source": [
    "# Создадим cсводную таблицу со строками urer_id, в столбцы выведем признак выбора события  event_type, значениями будет минимальное время события (или о)\n",
    "total_pivot = total_df.pivot_table(\n",
    "    values='start_time',\n",
    "    index='user_id', \n",
    "    columns='event_type',\n",
    "    aggfunc='min',\n",
    ")\n",
    "# переименуем столбцы\n",
    "total_pivot.columns = ['level_choice','pack_choice','purchase','registration','tutorial_finish','tutorial_start']\n",
    "# добавим столбец с признаком группы (А - есть tutorial_start, B - нет tutorial_start)\n",
    "total_pivot['group'] = total_pivot['tutorial_start'].apply(lambda x: 'B_not_tut' if pd.isnull(x) else 'A_tut')\n",
    "# total_events_pivot.info() \n",
    "#display(total_pivot)"
   ]
  },
  {
   "cell_type": "markdown",
   "metadata": {},
   "source": [
    " 1. \n",
    "    2. Определим среднее время прохождения различных этапов игры пользователями групп А и В.   "
   ]
  },
  {
   "cell_type": "code",
   "execution_count": 16,
   "metadata": {},
   "outputs": [
    {
     "data": {
      "text/html": [
       "<div>\n",
       "<style scoped>\n",
       "    .dataframe tbody tr th:only-of-type {\n",
       "        vertical-align: middle;\n",
       "    }\n",
       "\n",
       "    .dataframe tbody tr th {\n",
       "        vertical-align: top;\n",
       "    }\n",
       "\n",
       "    .dataframe thead th {\n",
       "        text-align: right;\n",
       "    }\n",
       "</style>\n",
       "<table border=\"1\" class=\"dataframe\">\n",
       "  <thead>\n",
       "    <tr style=\"text-align: right;\">\n",
       "      <th></th>\n",
       "      <th>group</th>\n",
       "      <th>int_reg_lc</th>\n",
       "      <th>int_reg_pc</th>\n",
       "      <th>int_reg_ph</th>\n",
       "      <th>int_lc_pс</th>\n",
       "      <th>int_lc_ph</th>\n",
       "      <th>int_pc_ph</th>\n",
       "    </tr>\n",
       "    <tr>\n",
       "      <th>user_id</th>\n",
       "      <th></th>\n",
       "      <th></th>\n",
       "      <th></th>\n",
       "      <th></th>\n",
       "      <th></th>\n",
       "      <th></th>\n",
       "      <th></th>\n",
       "    </tr>\n",
       "  </thead>\n",
       "  <tbody>\n",
       "    <tr>\n",
       "      <th>27832</th>\n",
       "      <td>B_not_tut</td>\n",
       "      <td>NaN</td>\n",
       "      <td>NaN</td>\n",
       "      <td>NaN</td>\n",
       "      <td>NaN</td>\n",
       "      <td>NaN</td>\n",
       "      <td>NaN</td>\n",
       "    </tr>\n",
       "    <tr>\n",
       "      <th>27833</th>\n",
       "      <td>A_tut</td>\n",
       "      <td>NaN</td>\n",
       "      <td>NaN</td>\n",
       "      <td>NaN</td>\n",
       "      <td>NaN</td>\n",
       "      <td>NaN</td>\n",
       "      <td>NaN</td>\n",
       "    </tr>\n",
       "    <tr>\n",
       "      <th>27834</th>\n",
       "      <td>A_tut</td>\n",
       "      <td>NaN</td>\n",
       "      <td>NaN</td>\n",
       "      <td>NaN</td>\n",
       "      <td>NaN</td>\n",
       "      <td>NaN</td>\n",
       "      <td>NaN</td>\n",
       "    </tr>\n",
       "    <tr>\n",
       "      <th>27835</th>\n",
       "      <td>A_tut</td>\n",
       "      <td>8.709722</td>\n",
       "      <td>8.732222</td>\n",
       "      <td>NaN</td>\n",
       "      <td>0.022500</td>\n",
       "      <td>NaN</td>\n",
       "      <td>NaN</td>\n",
       "    </tr>\n",
       "    <tr>\n",
       "      <th>27836</th>\n",
       "      <td>A_tut</td>\n",
       "      <td>NaN</td>\n",
       "      <td>NaN</td>\n",
       "      <td>NaN</td>\n",
       "      <td>NaN</td>\n",
       "      <td>NaN</td>\n",
       "      <td>NaN</td>\n",
       "    </tr>\n",
       "    <tr>\n",
       "      <th>...</th>\n",
       "      <td>...</td>\n",
       "      <td>...</td>\n",
       "      <td>...</td>\n",
       "      <td>...</td>\n",
       "      <td>...</td>\n",
       "      <td>...</td>\n",
       "      <td>...</td>\n",
       "    </tr>\n",
       "    <tr>\n",
       "      <th>47753</th>\n",
       "      <td>A_tut</td>\n",
       "      <td>3.623333</td>\n",
       "      <td>3.652778</td>\n",
       "      <td>NaN</td>\n",
       "      <td>0.029444</td>\n",
       "      <td>NaN</td>\n",
       "      <td>NaN</td>\n",
       "    </tr>\n",
       "    <tr>\n",
       "      <th>47754</th>\n",
       "      <td>B_not_tut</td>\n",
       "      <td>NaN</td>\n",
       "      <td>NaN</td>\n",
       "      <td>NaN</td>\n",
       "      <td>NaN</td>\n",
       "      <td>NaN</td>\n",
       "      <td>NaN</td>\n",
       "    </tr>\n",
       "    <tr>\n",
       "      <th>47755</th>\n",
       "      <td>A_tut</td>\n",
       "      <td>7.827222</td>\n",
       "      <td>NaN</td>\n",
       "      <td>NaN</td>\n",
       "      <td>NaN</td>\n",
       "      <td>NaN</td>\n",
       "      <td>NaN</td>\n",
       "    </tr>\n",
       "    <tr>\n",
       "      <th>47756</th>\n",
       "      <td>A_tut</td>\n",
       "      <td>6.411389</td>\n",
       "      <td>6.551667</td>\n",
       "      <td>NaN</td>\n",
       "      <td>0.140278</td>\n",
       "      <td>NaN</td>\n",
       "      <td>NaN</td>\n",
       "    </tr>\n",
       "    <tr>\n",
       "      <th>47757</th>\n",
       "      <td>B_not_tut</td>\n",
       "      <td>NaN</td>\n",
       "      <td>NaN</td>\n",
       "      <td>NaN</td>\n",
       "      <td>NaN</td>\n",
       "      <td>NaN</td>\n",
       "      <td>NaN</td>\n",
       "    </tr>\n",
       "  </tbody>\n",
       "</table>\n",
       "<p>19926 rows × 7 columns</p>\n",
       "</div>"
      ],
      "text/plain": [
       "             group  int_reg_lc  int_reg_pc  int_reg_ph  int_lc_pс  int_lc_ph  \\\n",
       "user_id                                                                        \n",
       "27832    B_not_tut         NaN         NaN         NaN        NaN        NaN   \n",
       "27833        A_tut         NaN         NaN         NaN        NaN        NaN   \n",
       "27834        A_tut         NaN         NaN         NaN        NaN        NaN   \n",
       "27835        A_tut    8.709722    8.732222         NaN   0.022500        NaN   \n",
       "27836        A_tut         NaN         NaN         NaN        NaN        NaN   \n",
       "...            ...         ...         ...         ...        ...        ...   \n",
       "47753        A_tut    3.623333    3.652778         NaN   0.029444        NaN   \n",
       "47754    B_not_tut         NaN         NaN         NaN        NaN        NaN   \n",
       "47755        A_tut    7.827222         NaN         NaN        NaN        NaN   \n",
       "47756        A_tut    6.411389    6.551667         NaN   0.140278        NaN   \n",
       "47757    B_not_tut         NaN         NaN         NaN        NaN        NaN   \n",
       "\n",
       "         int_pc_ph  \n",
       "user_id             \n",
       "27832          NaN  \n",
       "27833          NaN  \n",
       "27834          NaN  \n",
       "27835          NaN  \n",
       "27836          NaN  \n",
       "...            ...  \n",
       "47753          NaN  \n",
       "47754          NaN  \n",
       "47755          NaN  \n",
       "47756          NaN  \n",
       "47757          NaN  \n",
       "\n",
       "[19926 rows x 7 columns]"
      ]
     },
     "metadata": {},
     "output_type": "display_data"
    }
   ],
   "source": [
    "# Посчитаем взаимные интервалы между событиями в часах: \n",
    "# от регистрации до выбора уровня\n",
    "total_pivot['int_reg_lc'] = (total_pivot['level_choice'] - total_pivot['registration'])/pd.Timedelta('1 hour') \n",
    "# от регистрации до выбора пакета\n",
    "total_pivot['int_reg_pc'] = (total_pivot['pack_choice'] - total_pivot['registration'])/pd.Timedelta('1 hour') \n",
    "# от регистрации до оплаты\n",
    "total_pivot['int_reg_ph'] = (total_pivot['purchase'] - total_pivot['registration'])/pd.Timedelta('1 hour') \n",
    "# от выбора уровня до выбора пакета\n",
    "total_pivot['int_lc_pс'] = (total_pivot['pack_choice'] - total_pivot['level_choice'])/pd.Timedelta('1 hour') \n",
    "# от выбора уровня до оплаты\n",
    "total_pivot['int_lc_ph'] = (total_pivot['purchase'] - total_pivot['level_choice'])/pd.Timedelta('1 hour')\n",
    "# от выбора пакета до оплаты\n",
    "total_pivot['int_pc_ph'] = (total_pivot['purchase'] - total_pivot['pack_choice'])/pd.Timedelta('1 hour') \n",
    "\n",
    "# Удалим лишние столбцы\n",
    "total_pivot.drop(['level_choice','pack_choice','purchase','registration','tutorial_finish','tutorial_start'], axis=1, inplace=True)\n",
    "display(total_pivot)\n"
   ]
  },
  {
   "cell_type": "markdown",
   "metadata": {},
   "source": [
    " 1. \n",
    "    2. Построим графики сравнения времени прохождения каждого этапа игры в группах А и В. "
   ]
  },
  {
   "cell_type": "code",
   "execution_count": 17,
   "metadata": {},
   "outputs": [
    {
     "name": "stderr",
     "output_type": "stream",
     "text": [
      "C:\\Users\\Администратор\\AppData\\Local\\Temp\\ipykernel_7648\\3004755837.py:2: FutureWarning: Indexing with multiple keys (implicitly converted to a tuple of keys) will be deprecated, use a list instead.\n",
      "  total_pivot1 = total_pivot.groupby(['group'])[\n"
     ]
    },
    {
     "data": {
      "text/html": [
       "<div>\n",
       "<style scoped>\n",
       "    .dataframe tbody tr th:only-of-type {\n",
       "        vertical-align: middle;\n",
       "    }\n",
       "\n",
       "    .dataframe tbody tr th {\n",
       "        vertical-align: top;\n",
       "    }\n",
       "\n",
       "    .dataframe thead th {\n",
       "        text-align: right;\n",
       "    }\n",
       "</style>\n",
       "<table border=\"1\" class=\"dataframe\">\n",
       "  <thead>\n",
       "    <tr style=\"text-align: right;\">\n",
       "      <th></th>\n",
       "      <th>int_reg_lc</th>\n",
       "      <th>int_reg_pc</th>\n",
       "      <th>int_reg_ph</th>\n",
       "      <th>int_lc_pс</th>\n",
       "      <th>int_lc_ph</th>\n",
       "      <th>int_pc_ph</th>\n",
       "    </tr>\n",
       "    <tr>\n",
       "      <th>group</th>\n",
       "      <th></th>\n",
       "      <th></th>\n",
       "      <th></th>\n",
       "      <th></th>\n",
       "      <th></th>\n",
       "      <th></th>\n",
       "    </tr>\n",
       "  </thead>\n",
       "  <tbody>\n",
       "    <tr>\n",
       "      <th>A_tut</th>\n",
       "      <td>7.194730</td>\n",
       "      <td>7.27969</td>\n",
       "      <td>96.919904</td>\n",
       "      <td>0.088067</td>\n",
       "      <td>89.717616</td>\n",
       "      <td>89.627522</td>\n",
       "    </tr>\n",
       "    <tr>\n",
       "      <th>B_not_tut</th>\n",
       "      <td>5.259201</td>\n",
       "      <td>5.12116</td>\n",
       "      <td>105.100530</td>\n",
       "      <td>0.089951</td>\n",
       "      <td>100.915631</td>\n",
       "      <td>100.825997</td>\n",
       "    </tr>\n",
       "  </tbody>\n",
       "</table>\n",
       "</div>"
      ],
      "text/plain": [
       "           int_reg_lc  int_reg_pc  int_reg_ph  int_lc_pс   int_lc_ph  \\\n",
       "group                                                                  \n",
       "A_tut        7.194730     7.27969   96.919904   0.088067   89.717616   \n",
       "B_not_tut    5.259201     5.12116  105.100530   0.089951  100.915631   \n",
       "\n",
       "            int_pc_ph  \n",
       "group                  \n",
       "A_tut       89.627522  \n",
       "B_not_tut  100.825997  "
      ]
     },
     "metadata": {},
     "output_type": "display_data"
    }
   ],
   "source": [
    "# Сгруппируем нашу сводную по группам A и B\n",
    "total_pivot1 = total_pivot.groupby(['group'])[\n",
    "    'int_reg_lc', 'int_reg_pc', 'int_reg_ph', 'int_lc_pс', 'int_lc_ph', 'int_pc_ph'\n",
    "    ].mean()\n",
    "display(total_pivot1)"
   ]
  },
  {
   "cell_type": "code",
   "execution_count": 18,
   "metadata": {},
   "outputs": [],
   "source": [
    "# Для визуализации будем использовать библиотеку Matplotlib\n",
    "import matplotlib.pyplot as plt\n",
    "%matplotlib inline"
   ]
  },
  {
   "cell_type": "code",
   "execution_count": 19,
   "metadata": {},
   "outputs": [
    {
     "data": {
      "text/plain": [
       "''"
      ]
     },
     "execution_count": 19,
     "metadata": {},
     "output_type": "execute_result"
    },
    {
     "data": {
      "image/png": "[encoded data removed]",
      "text/plain": [
       "<Figure size 1500x1000 with 6 Axes>"
      ]
     },
     "metadata": {},
     "output_type": "display_data"
    }
   ],
   "source": [
    "# построим 6 столбцатых диаграмм для каждого интервала\n",
    "fig, axes = plt.subplots(nrows=2, ncols=3, figsize=(15, 10))\n",
    "\n",
    "axes[0][0].bar(x = total_pivot1.index, height=total_pivot1['int_reg_lc'], width=0.5, color = 'b')\n",
    "axes[0][0].set_title('T, часов от регистрации до выбора уровня')\n",
    "\n",
    "axes[0][1].bar(x = total_pivot1.index, height=total_pivot1['int_reg_pc'], width=0.5, color = 'g')\n",
    "axes[0][1].set_title('T, часов от регистрации до выбора пакета')\n",
    "\n",
    "axes[0][2].bar(x = total_pivot1.index, height=total_pivot1['int_lc_pс'], width=0.5, color = 'c')\n",
    "axes[0][2].set_title('T, часов от выбора уровня до выбора пакета')\n",
    "\n",
    "axes[1][0].bar(x = total_pivot1.index, height=total_pivot1['int_reg_ph'], width=0.5, color = 'r')\n",
    "axes[1][0].set_title('T, часов от регистрации до оплаты')\n",
    "\n",
    "axes[1][1].bar(x = total_pivot1.index, height=total_pivot1['int_lc_ph'], width=0.5, color = 'm')\n",
    "axes[1][1].set_title('T, часов от выбора уровня до оплаты')\n",
    "\n",
    "axes[1][2].bar(x = total_pivot1.index, height=total_pivot1['int_pc_ph'], width=0.5, color = 'y')\n",
    "axes[1][2].set_title('T, часов от выбора пакета до оплаты')\n",
    ";\n"
   ]
  },
  {
   "cell_type": "markdown",
   "metadata": {},
   "source": [
    "1. \n",
    "    4. Сравним, сделаем выводы о влиянии обучения на скорость прохождения игры."
   ]
  },
  {
   "cell_type": "markdown",
   "metadata": {},
   "source": [
    "### Выводы по гипотезе 1:\n",
    "\n",
    "1. Среднее время от регистрации до выбора уровня сложности и время  от регистрации до выбора пакета вопросов у обучающихся пользователей больше, что вполне логично, т.к. в этом промежутке они проходят обучение.\n",
    "2. Интервал времени от выбора уровня  до выбора в обоих группах примерно совпадает и очень мал, вероятно, так устроена логика игры, что эти этапы практически совпадают по времени.\n",
    "3. А вот временнЫе интервалы, в конечном итоге приводящие к оплате, у обучающихся пользователей в среднем на 10% меньше, чем у тех, кто не начинал обучение.\n",
    "\n",
    "### Таким образом, Гипотеза 1 подтверждается: Прохождение обучения ускоряет на 10% время принятия решения пользователя об оплате игры, иными словами, ускоряет процесс конверсии. "
   ]
  },
  {
   "cell_type": "markdown",
   "metadata": {},
   "source": [
    "\n",
    "\n",
    "## Гипотеза 2"
   ]
  },
  {
   "cell_type": "markdown",
   "metadata": {},
   "source": [
    "2. Проверить, существует ли зависимость между вероятностью оплаты вопросов и количеством обучений, которые начинал или завершал пользователь.   "
   ]
  },
  {
   "cell_type": "markdown",
   "metadata": {},
   "source": [
    "2. \n",
    "   1. Выделим группы пользователей, которые хотя бы один раз начинали обучение, разобьем на группы по количеству обучений (количество фактов начала обучения).   \n",
    "     "
   ]
  },
  {
   "cell_type": "code",
   "execution_count": 20,
   "metadata": {},
   "outputs": [
    {
     "data": {
      "text/html": [
       "<div>\n",
       "<style scoped>\n",
       "    .dataframe tbody tr th:only-of-type {\n",
       "        vertical-align: middle;\n",
       "    }\n",
       "\n",
       "    .dataframe tbody tr th {\n",
       "        vertical-align: top;\n",
       "    }\n",
       "\n",
       "    .dataframe thead th {\n",
       "        text-align: right;\n",
       "    }\n",
       "</style>\n",
       "<table border=\"1\" class=\"dataframe\">\n",
       "  <thead>\n",
       "    <tr style=\"text-align: right;\">\n",
       "      <th></th>\n",
       "      <th>purchase_cnt</th>\n",
       "      <th>tut_start_cnt</th>\n",
       "    </tr>\n",
       "    <tr>\n",
       "      <th>group_tut</th>\n",
       "      <th></th>\n",
       "      <th></th>\n",
       "    </tr>\n",
       "  </thead>\n",
       "  <tbody>\n",
       "    <tr>\n",
       "      <th>1.0</th>\n",
       "      <td>1207</td>\n",
       "      <td>9103</td>\n",
       "    </tr>\n",
       "    <tr>\n",
       "      <th>2.0</th>\n",
       "      <td>218</td>\n",
       "      <td>1589</td>\n",
       "    </tr>\n",
       "    <tr>\n",
       "      <th>3.0</th>\n",
       "      <td>51</td>\n",
       "      <td>427</td>\n",
       "    </tr>\n",
       "    <tr>\n",
       "      <th>4.0</th>\n",
       "      <td>30</td>\n",
       "      <td>221</td>\n",
       "    </tr>\n",
       "    <tr>\n",
       "      <th>5.0</th>\n",
       "      <td>16</td>\n",
       "      <td>109</td>\n",
       "    </tr>\n",
       "    <tr>\n",
       "      <th>6.0</th>\n",
       "      <td>14</td>\n",
       "      <td>116</td>\n",
       "    </tr>\n",
       "    <tr>\n",
       "      <th>7.0</th>\n",
       "      <td>12</td>\n",
       "      <td>94</td>\n",
       "    </tr>\n",
       "    <tr>\n",
       "      <th>8.0</th>\n",
       "      <td>13</td>\n",
       "      <td>86</td>\n",
       "    </tr>\n",
       "    <tr>\n",
       "      <th>9.0</th>\n",
       "      <td>17</td>\n",
       "      <td>113</td>\n",
       "    </tr>\n",
       "  </tbody>\n",
       "</table>\n",
       "</div>"
      ],
      "text/plain": [
       "           purchase_cnt  tut_start_cnt\n",
       "group_tut                             \n",
       "1.0                1207           9103\n",
       "2.0                 218           1589\n",
       "3.0                  51            427\n",
       "4.0                  30            221\n",
       "5.0                  16            109\n",
       "6.0                  14            116\n",
       "7.0                  12             94\n",
       "8.0                  13             86\n",
       "9.0                  17            113"
      ]
     },
     "metadata": {},
     "output_type": "display_data"
    }
   ],
   "source": [
    "# создадим копию объединенного датафрейма\n",
    "total_df2 = total_becup.copy()\n",
    "\n",
    "# Создадим cсводную таблицу со строками urer_id, в столбцы выведем признак выбора события  event_type, значениями будет количество событий \n",
    "total_pivot2 = total_df2.pivot_table(\n",
    "    values='start_time',\n",
    "    index='user_id', \n",
    "    columns='event_type',\n",
    "    aggfunc='count',\n",
    ")\n",
    "\n",
    "# Удалим лишние столбцы\n",
    "total_pivot2.drop(['level_choice','pack_choice','registration','tutorial_finish'], axis=1, inplace=True)\n",
    "# переименуем столбцы\n",
    "total_pivot2.columns = ['purchase_cnt','tut_start_cnt']\n",
    "# отфильтруем, оставив строки с обучением\n",
    "total_pivot2 = total_pivot2[total_pivot2['tut_start_cnt']>0]\n",
    "# добавим столбец с группами пользователей по количеству обучений \n",
    "total_pivot2['group_tut'] = total_pivot2['tut_start_cnt'].round(0)\n",
    "total_pivot2 = total_pivot2.groupby(['group_tut']).count()\n",
    "\n",
    "display(total_pivot2)"
   ]
  },
  {
   "cell_type": "code",
   "execution_count": 21,
   "metadata": {},
   "outputs": [
    {
     "data": {
      "text/html": [
       "<div>\n",
       "<style scoped>\n",
       "    .dataframe tbody tr th:only-of-type {\n",
       "        vertical-align: middle;\n",
       "    }\n",
       "\n",
       "    .dataframe tbody tr th {\n",
       "        vertical-align: top;\n",
       "    }\n",
       "\n",
       "    .dataframe thead th {\n",
       "        text-align: right;\n",
       "    }\n",
       "</style>\n",
       "<table border=\"1\" class=\"dataframe\">\n",
       "  <thead>\n",
       "    <tr style=\"text-align: right;\">\n",
       "      <th></th>\n",
       "      <th>purchase_cnt</th>\n",
       "      <th>tut_start_cnt</th>\n",
       "      <th>CR</th>\n",
       "      <th>tut_proc</th>\n",
       "      <th>grp</th>\n",
       "    </tr>\n",
       "    <tr>\n",
       "      <th>group_tut</th>\n",
       "      <th></th>\n",
       "      <th></th>\n",
       "      <th></th>\n",
       "      <th></th>\n",
       "      <th></th>\n",
       "    </tr>\n",
       "  </thead>\n",
       "  <tbody>\n",
       "    <tr>\n",
       "      <th>1.0</th>\n",
       "      <td>1207</td>\n",
       "      <td>9103</td>\n",
       "      <td>13.3</td>\n",
       "      <td>76.766740</td>\n",
       "      <td>1.0</td>\n",
       "    </tr>\n",
       "    <tr>\n",
       "      <th>2.0</th>\n",
       "      <td>218</td>\n",
       "      <td>1589</td>\n",
       "      <td>13.7</td>\n",
       "      <td>13.400236</td>\n",
       "      <td>2.0</td>\n",
       "    </tr>\n",
       "    <tr>\n",
       "      <th>3.0</th>\n",
       "      <td>51</td>\n",
       "      <td>427</td>\n",
       "      <td>11.9</td>\n",
       "      <td>3.600945</td>\n",
       "      <td>3.0</td>\n",
       "    </tr>\n",
       "    <tr>\n",
       "      <th>4.0</th>\n",
       "      <td>30</td>\n",
       "      <td>221</td>\n",
       "      <td>13.6</td>\n",
       "      <td>1.863721</td>\n",
       "      <td>4.0</td>\n",
       "    </tr>\n",
       "    <tr>\n",
       "      <th>5.0</th>\n",
       "      <td>16</td>\n",
       "      <td>109</td>\n",
       "      <td>14.7</td>\n",
       "      <td>0.919211</td>\n",
       "      <td>5.0</td>\n",
       "    </tr>\n",
       "    <tr>\n",
       "      <th>6.0</th>\n",
       "      <td>14</td>\n",
       "      <td>116</td>\n",
       "      <td>12.1</td>\n",
       "      <td>0.978243</td>\n",
       "      <td>6.0</td>\n",
       "    </tr>\n",
       "    <tr>\n",
       "      <th>7.0</th>\n",
       "      <td>12</td>\n",
       "      <td>94</td>\n",
       "      <td>12.8</td>\n",
       "      <td>0.792714</td>\n",
       "      <td>7.0</td>\n",
       "    </tr>\n",
       "    <tr>\n",
       "      <th>8.0</th>\n",
       "      <td>13</td>\n",
       "      <td>86</td>\n",
       "      <td>15.1</td>\n",
       "      <td>0.725249</td>\n",
       "      <td>8.0</td>\n",
       "    </tr>\n",
       "    <tr>\n",
       "      <th>9.0</th>\n",
       "      <td>17</td>\n",
       "      <td>113</td>\n",
       "      <td>15.0</td>\n",
       "      <td>0.952943</td>\n",
       "      <td>9.0</td>\n",
       "    </tr>\n",
       "  </tbody>\n",
       "</table>\n",
       "</div>"
      ],
      "text/plain": [
       "           purchase_cnt  tut_start_cnt    CR   tut_proc  grp\n",
       "group_tut                                                   \n",
       "1.0                1207           9103  13.3  76.766740  1.0\n",
       "2.0                 218           1589  13.7  13.400236  2.0\n",
       "3.0                  51            427  11.9   3.600945  3.0\n",
       "4.0                  30            221  13.6   1.863721  4.0\n",
       "5.0                  16            109  14.7   0.919211  5.0\n",
       "6.0                  14            116  12.1   0.978243  6.0\n",
       "7.0                  12             94  12.8   0.792714  7.0\n",
       "8.0                  13             86  15.1   0.725249  8.0\n",
       "9.0                  17            113  15.0   0.952943  9.0"
      ]
     },
     "metadata": {},
     "output_type": "display_data"
    }
   ],
   "source": [
    "# добавим столбец с долей оплативших в общем количестве начинавших обучение в каждой группе\n",
    "total_pivot2['CR'] = (total_pivot2['purchase_cnt'] / total_pivot2['tut_start_cnt']  * 100).round(1)\n",
    "# добавим столбец с долей пользователей каждой группы в общем количестве начинавших обучение\n",
    "total_pivot2['tut_proc'] = total_pivot2['tut_start_cnt'] / total_pivot2['tut_start_cnt'].sum() * 100 \n",
    "# добавим столбец с группами (пригодится для построения диаграмм) \n",
    "total_pivot2['grp'] = total_pivot2.index\n",
    "display(total_pivot2)"
   ]
  },
  {
   "cell_type": "markdown",
   "metadata": {},
   "source": [
    "2. \n",
    "    3. Сравним полученные данные на графике (диаграмме), сделаем выводы"
   ]
  },
  {
   "cell_type": "code",
   "execution_count": 22,
   "metadata": {},
   "outputs": [
    {
     "data": {
      "image/png": "[encoded data removed]",
      "text/plain": [
       "<Figure size 500x500 with 1 Axes>"
      ]
     },
     "metadata": {},
     "output_type": "display_data"
    }
   ],
   "source": [
    "# Построим круговую диаграмму для доли пользователей каждой группы от всех пользователей\n",
    "proc_tut = total_pivot2['tut_proc']\n",
    "fig = plt.figure(figsize=(5, 5))\n",
    "axes = fig.add_axes([0, 0, 1, 1])\n",
    "axes.pie(\n",
    "    proc_tut,\n",
    "    labels=proc_tut.index,\n",
    "    autopct='%.0f%%',\n",
    "    explode = [0, 0, 0, 0, 0, 0, 0, 0, 0]\n",
    "); "
   ]
  },
  {
   "cell_type": "code",
   "execution_count": 23,
   "metadata": {},
   "outputs": [
    {
     "data": {
      "application/vnd.plotly.v1+json": {
       "config": {
        "plotlyServerURL": "https://plot.ly"
       },
       "data": [
        {
         "alignmentgroup": "True",
         "hovertemplate": "grp=%{marker.color}<br>CR=%{text}<extra></extra>",
         "legendgroup": "",
         "marker": {
          "color": [
           1,
           2,
           3,
           4,
           5,
           6,
           7,
           8,
           9
          ],
          "coloraxis": "coloraxis",
          "pattern": {
           "shape": ""
          }
         },
         "name": "",
         "offsetgroup": "",
         "orientation": "v",
         "showlegend": false,
         "text": [
          13.3,
          13.7,
          11.9,
          13.6,
          14.7,
          12.1,
          12.8,
          15.1,
          15
         ],
         "textposition": "auto",
         "type": "bar",
         "x": [
          1,
          2,
          3,
          4,
          5,
          6,
          7,
          8,
          9
         ],
         "xaxis": "x",
         "y": [
          13.3,
          13.7,
          11.9,
          13.6,
          14.7,
          12.1,
          12.8,
          15.1,
          15
         ],
         "yaxis": "y"
        }
       ],
       "layout": {
        "barmode": "relative",
        "coloraxis": {
         "colorbar": {
          "title": {
           "text": "grp"
          }
         },
         "colorscale": [
          [
           0,
           "#0d0887"
          ],
          [
           0.1111111111111111,
           "#46039f"
          ],
          [
           0.2222222222222222,
           "#7201a8"
          ],
          [
           0.3333333333333333,
           "#9c179e"
          ],
          [
           0.4444444444444444,
           "#bd3786"
          ],
          [
           0.5555555555555556,
           "#d8576b"
          ],
          [
           0.6666666666666666,
           "#ed7953"
          ],
          [
           0.7777777777777778,
           "#fb9f3a"
          ],
          [
           0.8888888888888888,
           "#fdca26"
          ],
          [
           1,
           "#f0f921"
          ]
         ]
        },
        "height": 500,
        "legend": {
         "tracegroupgap": 0
        },
        "template": {
         "data": {
          "bar": [
           {
            "error_x": {
             "color": "#2a3f5f"
            },
            "error_y": {
             "color": "#2a3f5f"
            },
            "marker": {
             "line": {
              "color": "#E5ECF6",
              "width": 0.5
             },
             "pattern": {
              "fillmode": "overlay",
              "size": 10,
              "solidity": 0.2
             }
            },
            "type": "bar"
           }
          ],
          "barpolar": [
           {
            "marker": {
             "line": {
              "color": "#E5ECF6",
              "width": 0.5
             },
             "pattern": {
              "fillmode": "overlay",
              "size": 10,
              "solidity": 0.2
             }
            },
            "type": "barpolar"
           }
          ],
          "carpet": [
           {
            "aaxis": {
             "endlinecolor": "#2a3f5f",
             "gridcolor": "white",
             "linecolor": "white",
             "minorgridcolor": "white",
             "startlinecolor": "#2a3f5f"
            },
            "baxis": {
             "endlinecolor": "#2a3f5f",
             "gridcolor": "white",
             "linecolor": "white",
             "minorgridcolor": "white",
             "startlinecolor": "#2a3f5f"
            },
            "type": "carpet"
           }
          ],
          "choropleth": [
           {
            "colorbar": {
             "outlinewidth": 0,
             "ticks": ""
            },
            "type": "choropleth"
           }
          ],
          "contour": [
           {
            "colorbar": {
             "outlinewidth": 0,
             "ticks": ""
            },
            "colorscale": [
             [
              0,
              "#0d0887"
             ],
             [
              0.1111111111111111,
              "#46039f"
             ],
             [
              0.2222222222222222,
              "#7201a8"
             ],
             [
              0.3333333333333333,
              "#9c179e"
             ],
             [
              0.4444444444444444,
              "#bd3786"
             ],
             [
              0.5555555555555556,
              "#d8576b"
             ],
             [
              0.6666666666666666,
              "#ed7953"
             ],
             [
              0.7777777777777778,
              "#fb9f3a"
             ],
             [
              0.8888888888888888,
              "#fdca26"
             ],
             [
              1,
              "#f0f921"
             ]
            ],
            "type": "contour"
           }
          ],
          "contourcarpet": [
           {
            "colorbar": {
             "outlinewidth": 0,
             "ticks": ""
            },
            "type": "contourcarpet"
           }
          ],
          "heatmap": [
           {
            "colorbar": {
             "outlinewidth": 0,
             "ticks": ""
            },
            "colorscale": [
             [
              0,
              "#0d0887"
             ],
             [
              0.1111111111111111,
              "#46039f"
             ],
             [
              0.2222222222222222,
              "#7201a8"
             ],
             [
              0.3333333333333333,
              "#9c179e"
             ],
             [
              0.4444444444444444,
              "#bd3786"
             ],
             [
              0.5555555555555556,
              "#d8576b"
             ],
             [
              0.6666666666666666,
              "#ed7953"
             ],
             [
              0.7777777777777778,
              "#fb9f3a"
             ],
             [
              0.8888888888888888,
              "#fdca26"
             ],
             [
              1,
              "#f0f921"
             ]
            ],
            "type": "heatmap"
           }
          ],
          "heatmapgl": [
           {
            "colorbar": {
             "outlinewidth": 0,
             "ticks": ""
            },
            "colorscale": [
             [
              0,
              "#0d0887"
             ],
             [
              0.1111111111111111,
              "#46039f"
             ],
             [
              0.2222222222222222,
              "#7201a8"
             ],
             [
              0.3333333333333333,
              "#9c179e"
             ],
             [
              0.4444444444444444,
              "#bd3786"
             ],
             [
              0.5555555555555556,
              "#d8576b"
             ],
             [
              0.6666666666666666,
              "#ed7953"
             ],
             [
              0.7777777777777778,
              "#fb9f3a"
             ],
             [
              0.8888888888888888,
              "#fdca26"
             ],
             [
              1,
              "#f0f921"
             ]
            ],
            "type": "heatmapgl"
           }
          ],
          "histogram": [
           {
            "marker": {
             "pattern": {
              "fillmode": "overlay",
              "size": 10,
              "solidity": 0.2
             }
            },
            "type": "histogram"
           }
          ],
          "histogram2d": [
           {
            "colorbar": {
             "outlinewidth": 0,
             "ticks": ""
            },
            "colorscale": [
             [
              0,
              "#0d0887"
             ],
             [
              0.1111111111111111,
              "#46039f"
             ],
             [
              0.2222222222222222,
              "#7201a8"
             ],
             [
              0.3333333333333333,
              "#9c179e"
             ],
             [
              0.4444444444444444,
              "#bd3786"
             ],
             [
              0.5555555555555556,
              "#d8576b"
             ],
             [
              0.6666666666666666,
              "#ed7953"
             ],
             [
              0.7777777777777778,
              "#fb9f3a"
             ],
             [
              0.8888888888888888,
              "#fdca26"
             ],
             [
              1,
              "#f0f921"
             ]
            ],
            "type": "histogram2d"
           }
          ],
          "histogram2dcontour": [
           {
            "colorbar": {
             "outlinewidth": 0,
             "ticks": ""
            },
            "colorscale": [
             [
              0,
              "#0d0887"
             ],
             [
              0.1111111111111111,
              "#46039f"
             ],
             [
              0.2222222222222222,
              "#7201a8"
             ],
             [
              0.3333333333333333,
              "#9c179e"
             ],
             [
              0.4444444444444444,
              "#bd3786"
             ],
             [
              0.5555555555555556,
              "#d8576b"
             ],
             [
              0.6666666666666666,
              "#ed7953"
             ],
             [
              0.7777777777777778,
              "#fb9f3a"
             ],
             [
              0.8888888888888888,
              "#fdca26"
             ],
             [
              1,
              "#f0f921"
             ]
            ],
            "type": "histogram2dcontour"
           }
          ],
          "mesh3d": [
           {
            "colorbar": {
             "outlinewidth": 0,
             "ticks": ""
            },
            "type": "mesh3d"
           }
          ],
          "parcoords": [
           {
            "line": {
             "colorbar": {
              "outlinewidth": 0,
              "ticks": ""
             }
            },
            "type": "parcoords"
           }
          ],
          "pie": [
           {
            "automargin": true,
            "type": "pie"
           }
          ],
          "scatter": [
           {
            "fillpattern": {
             "fillmode": "overlay",
             "size": 10,
             "solidity": 0.2
            },
            "type": "scatter"
           }
          ],
          "scatter3d": [
           {
            "line": {
             "colorbar": {
              "outlinewidth": 0,
              "ticks": ""
             }
            },
            "marker": {
             "colorbar": {
              "outlinewidth": 0,
              "ticks": ""
             }
            },
            "type": "scatter3d"
           }
          ],
          "scattercarpet": [
           {
            "marker": {
             "colorbar": {
              "outlinewidth": 0,
              "ticks": ""
             }
            },
            "type": "scattercarpet"
           }
          ],
          "scattergeo": [
           {
            "marker": {
             "colorbar": {
              "outlinewidth": 0,
              "ticks": ""
             }
            },
            "type": "scattergeo"
           }
          ],
          "scattergl": [
           {
            "marker": {
             "colorbar": {
              "outlinewidth": 0,
              "ticks": ""
             }
            },
            "type": "scattergl"
           }
          ],
          "scattermapbox": [
           {
            "marker": {
             "colorbar": {
              "outlinewidth": 0,
              "ticks": ""
             }
            },
            "type": "scattermapbox"
           }
          ],
          "scatterpolar": [
           {
            "marker": {
             "colorbar": {
              "outlinewidth": 0,
              "ticks": ""
             }
            },
            "type": "scatterpolar"
           }
          ],
          "scatterpolargl": [
           {
            "marker": {
             "colorbar": {
              "outlinewidth": 0,
              "ticks": ""
             }
            },
            "type": "scatterpolargl"
           }
          ],
          "scatterternary": [
           {
            "marker": {
             "colorbar": {
              "outlinewidth": 0,
              "ticks": ""
             }
            },
            "type": "scatterternary"
           }
          ],
          "surface": [
           {
            "colorbar": {
             "outlinewidth": 0,
             "ticks": ""
            },
            "colorscale": [
             [
              0,
              "#0d0887"
             ],
             [
              0.1111111111111111,
              "#46039f"
             ],
             [
              0.2222222222222222,
              "#7201a8"
             ],
             [
              0.3333333333333333,
              "#9c179e"
             ],
             [
              0.4444444444444444,
              "#bd3786"
             ],
             [
              0.5555555555555556,
              "#d8576b"
             ],
             [
              0.6666666666666666,
              "#ed7953"
             ],
             [
              0.7777777777777778,
              "#fb9f3a"
             ],
             [
              0.8888888888888888,
              "#fdca26"
             ],
             [
              1,
              "#f0f921"
             ]
            ],
            "type": "surface"
           }
          ],
          "table": [
           {
            "cells": {
             "fill": {
              "color": "#EBF0F8"
             },
             "line": {
              "color": "white"
             }
            },
            "header": {
             "fill": {
              "color": "#C8D4E3"
             },
             "line": {
              "color": "white"
             }
            },
            "type": "table"
           }
          ]
         },
         "layout": {
          "annotationdefaults": {
           "arrowcolor": "#2a3f5f",
           "arrowhead": 0,
           "arrowwidth": 1
          },
          "autotypenumbers": "strict",
          "coloraxis": {
           "colorbar": {
            "outlinewidth": 0,
            "ticks": ""
           }
          },
          "colorscale": {
           "diverging": [
            [
             0,
             "#8e0152"
            ],
            [
             0.1,
             "#c51b7d"
            ],
            [
             0.2,
             "#de77ae"
            ],
            [
             0.3,
             "#f1b6da"
            ],
            [
             0.4,
             "#fde0ef"
            ],
            [
             0.5,
             "#f7f7f7"
            ],
            [
             0.6,
             "#e6f5d0"
            ],
            [
             0.7,
             "#b8e186"
            ],
            [
             0.8,
             "#7fbc41"
            ],
            [
             0.9,
             "#4d9221"
            ],
            [
             1,
             "#276419"
            ]
           ],
           "sequential": [
            [
             0,
             "#0d0887"
            ],
            [
             0.1111111111111111,
             "#46039f"
            ],
            [
             0.2222222222222222,
             "#7201a8"
            ],
            [
             0.3333333333333333,
             "#9c179e"
            ],
            [
             0.4444444444444444,
             "#bd3786"
            ],
            [
             0.5555555555555556,
             "#d8576b"
            ],
            [
             0.6666666666666666,
             "#ed7953"
            ],
            [
             0.7777777777777778,
             "#fb9f3a"
            ],
            [
             0.8888888888888888,
             "#fdca26"
            ],
            [
             1,
             "#f0f921"
            ]
           ],
           "sequentialminus": [
            [
             0,
             "#0d0887"
            ],
            [
             0.1111111111111111,
             "#46039f"
            ],
            [
             0.2222222222222222,
             "#7201a8"
            ],
            [
             0.3333333333333333,
             "#9c179e"
            ],
            [
             0.4444444444444444,
             "#bd3786"
            ],
            [
             0.5555555555555556,
             "#d8576b"
            ],
            [
             0.6666666666666666,
             "#ed7953"
            ],
            [
             0.7777777777777778,
             "#fb9f3a"
            ],
            [
             0.8888888888888888,
             "#fdca26"
            ],
            [
             1,
             "#f0f921"
            ]
           ]
          },
          "colorway": [
           "#636efa",
           "#EF553B",
           "#00cc96",
           "#ab63fa",
           "#FFA15A",
           "#19d3f3",
           "#FF6692",
           "#B6E880",
           "#FF97FF",
           "#FECB52"
          ],
          "font": {
           "color": "#2a3f5f"
          },
          "geo": {
           "bgcolor": "white",
           "lakecolor": "white",
           "landcolor": "#E5ECF6",
           "showlakes": true,
           "showland": true,
           "subunitcolor": "white"
          },
          "hoverlabel": {
           "align": "left"
          },
          "hovermode": "closest",
          "mapbox": {
           "style": "light"
          },
          "paper_bgcolor": "white",
          "plot_bgcolor": "#E5ECF6",
          "polar": {
           "angularaxis": {
            "gridcolor": "white",
            "linecolor": "white",
            "ticks": ""
           },
           "bgcolor": "#E5ECF6",
           "radialaxis": {
            "gridcolor": "white",
            "linecolor": "white",
            "ticks": ""
           }
          },
          "scene": {
           "xaxis": {
            "backgroundcolor": "#E5ECF6",
            "gridcolor": "white",
            "gridwidth": 2,
            "linecolor": "white",
            "showbackground": true,
            "ticks": "",
            "zerolinecolor": "white"
           },
           "yaxis": {
            "backgroundcolor": "#E5ECF6",
            "gridcolor": "white",
            "gridwidth": 2,
            "linecolor": "white",
            "showbackground": true,
            "ticks": "",
            "zerolinecolor": "white"
           },
           "zaxis": {
            "backgroundcolor": "#E5ECF6",
            "gridcolor": "white",
            "gridwidth": 2,
            "linecolor": "white",
            "showbackground": true,
            "ticks": "",
            "zerolinecolor": "white"
           }
          },
          "shapedefaults": {
           "line": {
            "color": "#2a3f5f"
           }
          },
          "ternary": {
           "aaxis": {
            "gridcolor": "white",
            "linecolor": "white",
            "ticks": ""
           },
           "baxis": {
            "gridcolor": "white",
            "linecolor": "white",
            "ticks": ""
           },
           "bgcolor": "#E5ECF6",
           "caxis": {
            "gridcolor": "white",
            "linecolor": "white",
            "ticks": ""
           }
          },
          "title": {
           "x": 0.05
          },
          "xaxis": {
           "automargin": true,
           "gridcolor": "white",
           "linecolor": "white",
           "ticks": "",
           "title": {
            "standoff": 15
           },
           "zerolinecolor": "white",
           "zerolinewidth": 2
          },
          "yaxis": {
           "automargin": true,
           "gridcolor": "white",
           "linecolor": "white",
           "ticks": "",
           "title": {
            "standoff": 15
           },
           "zerolinecolor": "white",
           "zerolinewidth": 2
          }
         }
        },
        "title": {
         "text": "Вероятность оплаты от количества обучений, %"
        },
        "width": 1000,
        "xaxis": {
         "anchor": "y",
         "domain": [
          0,
          1
         ],
         "title": {
          "text": "grp"
         }
        },
        "yaxis": {
         "anchor": "x",
         "domain": [
          0,
          1
         ],
         "title": {
          "text": "CR"
         }
        }
       }
      }
     },
     "metadata": {},
     "output_type": "display_data"
    }
   ],
   "source": [
    "# построим столбцатую диаграмму вероятности оплаты в зависимости от количества обучений\n",
    "import plotly\n",
    "import plotly.express as px\n",
    "plotly.__version__\n",
    "#строим график\n",
    "fig = px.bar(\n",
    "    data_frame=total_pivot2, #датафрейм\n",
    "    x=\"grp\", #ось x\n",
    "    y=\"CR\", #ось y\n",
    "    color='grp', #расцветка в зависимости от страны\n",
    "    text = 'CR', #текст на столбцах\n",
    "    orientation='v', #ориентация графика\n",
    "    height=500, #высота\n",
    "    width=1000, #ширина\n",
    "    title='Вероятность оплаты от количества обучений, %' #заголовок\n",
    ")\n",
    "\n",
    "#отображаем его\n",
    "fig.show()"
   ]
  },
  {
   "cell_type": "markdown",
   "metadata": {},
   "source": [
    "### Выводы по гипотезе 2:\n",
    "\n",
    "1. Анализ обучающихся пользователей пользователей показал, что практически 3/4 проходят обучение по одному разу. Можно предположить, что они с первого раза осваивают правила. С учетом пользователей, которые начинали обучение второй раз эта доля достигает 90%. Очень хороший результат.\n",
    "2. Но настораживает наличие пользователей, которые начинают обучение 3 раза и более (до 9 раз). Это может говорить о том, 10 % далеко не сразу понимают правила, и что успокаиваться не стоит и надо поработать над программой обучения.\n",
    "3. А вот анализ вероятность оплаты не зависит от количества обучений, во всех группах показатель примерно одинаковый, на уровне 12-15 %\n",
    "\n",
    "### Таким образом, Гипотеза 2 Не подтверждается: существенной зависимости вероятности оплаты от количества обучений не выявлено. "
   ]
  },
  {
   "cell_type": "markdown",
   "metadata": {},
   "source": [
    "\n",
    "\n",
    "## Гипотеза 3"
   ]
  },
  {
   "cell_type": "markdown",
   "metadata": {},
   "source": [
    "\n",
    "3. Выяснить, как часто пользователи начинают обучение после выбора уровня сложности.    "
   ]
  },
  {
   "cell_type": "markdown",
   "metadata": {},
   "source": [
    "  3.     \n",
    "        1. Посчитаем все случаи выбора обучения и все случаи выбора уровня сложности."
   ]
  },
  {
   "cell_type": "code",
   "execution_count": 24,
   "metadata": {},
   "outputs": [
    {
     "name": "stdout",
     "output_type": "stream",
     "text": [
      "Количество событий выбора обучения: 18050\n"
     ]
    },
    {
     "name": "stderr",
     "output_type": "stream",
     "text": [
      "C:\\Users\\Администратор\\AppData\\Local\\Temp\\ipykernel_7648\\3706433791.py:6: SettingWithCopyWarning:\n",
      "\n",
      "\n",
      "A value is trying to be set on a copy of a slice from a DataFrame\n",
      "\n",
      "See the caveats in the documentation: https://pandas.pydata.org/pandas-docs/stable/user_guide/indexing.html#returning-a-view-versus-a-copy\n",
      "\n"
     ]
    }
   ],
   "source": [
    "# вернемся к ранее созданному объединенному датафрейму, отсортируем по времени\n",
    "total_df3 = total_becup.copy().sort_values(['start_time'])\n",
    "\n",
    "# создадаи датафрейм, содержщий все случаи обращения к этапу обцчения. Посчитаем их общее количество. \n",
    "total_df3_tut = total_df3[total_df3['event_type'] == 'tutorial_start']\n",
    "total_df3_tut.drop(['event_id', 'event_type', 'selected_level','tutorial_id', 'purchase_id', 'amount'], axis=1, inplace=True)\n",
    "total_df3_tut.columns = ['start_tut', 'user_id']\n",
    "total_df3_tut = total_df3_tut.sort_values(['user_id', 'start_tut'], ascending=[True,True])\n",
    "cnt_all_tut = len(total_df3_tut)\n",
    "print('Количество событий выбора обучения:', cnt_all_tut)"
   ]
  },
  {
   "cell_type": "code",
   "execution_count": 25,
   "metadata": {},
   "outputs": [
    {
     "name": "stdout",
     "output_type": "stream",
     "text": [
      "Количество событий выбора уровня сложности: 8342\n"
     ]
    },
    {
     "name": "stderr",
     "output_type": "stream",
     "text": [
      "C:\\Users\\Администратор\\AppData\\Local\\Temp\\ipykernel_7648\\3796038902.py:3: SettingWithCopyWarning:\n",
      "\n",
      "\n",
      "A value is trying to be set on a copy of a slice from a DataFrame\n",
      "\n",
      "See the caveats in the documentation: https://pandas.pydata.org/pandas-docs/stable/user_guide/indexing.html#returning-a-view-versus-a-copy\n",
      "\n"
     ]
    }
   ],
   "source": [
    "# создадаи датафрейм с пользователями, выбравшими уровень обучение, найдем их общее количество\n",
    "total_df3_level = total_df3[total_df3['event_type'] == 'level_choice']\n",
    "total_df3_level.drop(['event_id', 'event_type', 'selected_level','tutorial_id', 'purchase_id', 'amount'], axis=1, inplace=True)\n",
    "total_df3_level.columns = ['start_level', 'user_id']\n",
    "cnt_level = len(total_df3_level)\n",
    "print('Количество событий выбора уровня сложности:', cnt_level)"
   ]
  },
  {
   "cell_type": "code",
   "execution_count": 26,
   "metadata": {},
   "outputs": [
    {
     "data": {
      "text/html": [
       "<div>\n",
       "<style scoped>\n",
       "    .dataframe tbody tr th:only-of-type {\n",
       "        vertical-align: middle;\n",
       "    }\n",
       "\n",
       "    .dataframe tbody tr th {\n",
       "        vertical-align: top;\n",
       "    }\n",
       "\n",
       "    .dataframe thead th {\n",
       "        text-align: right;\n",
       "    }\n",
       "</style>\n",
       "<table border=\"1\" class=\"dataframe\">\n",
       "  <thead>\n",
       "    <tr style=\"text-align: right;\">\n",
       "      <th></th>\n",
       "      <th>start_tut</th>\n",
       "      <th>user_id</th>\n",
       "      <th>start_level</th>\n",
       "    </tr>\n",
       "  </thead>\n",
       "  <tbody>\n",
       "    <tr>\n",
       "      <th>0</th>\n",
       "      <td>2018-01-01 17:47:40</td>\n",
       "      <td>27833</td>\n",
       "      <td>NaT</td>\n",
       "    </tr>\n",
       "    <tr>\n",
       "      <th>1</th>\n",
       "      <td>2018-01-01 19:46:11</td>\n",
       "      <td>27834</td>\n",
       "      <td>NaT</td>\n",
       "    </tr>\n",
       "    <tr>\n",
       "      <th>2</th>\n",
       "      <td>2018-01-01 15:00:51</td>\n",
       "      <td>27835</td>\n",
       "      <td>2018-01-01 20:37:22</td>\n",
       "    </tr>\n",
       "    <tr>\n",
       "      <th>3</th>\n",
       "      <td>2018-01-01 14:54:40</td>\n",
       "      <td>27836</td>\n",
       "      <td>NaT</td>\n",
       "    </tr>\n",
       "    <tr>\n",
       "      <th>4</th>\n",
       "      <td>2018-01-01 15:40:43</td>\n",
       "      <td>27836</td>\n",
       "      <td>NaT</td>\n",
       "    </tr>\n",
       "    <tr>\n",
       "      <th>...</th>\n",
       "      <td>...</td>\n",
       "      <td>...</td>\n",
       "      <td>...</td>\n",
       "    </tr>\n",
       "    <tr>\n",
       "      <th>18143</th>\n",
       "      <td>NaT</td>\n",
       "      <td>46472</td>\n",
       "      <td>2018-12-07 16:47:23</td>\n",
       "    </tr>\n",
       "    <tr>\n",
       "      <th>18144</th>\n",
       "      <td>NaT</td>\n",
       "      <td>46548</td>\n",
       "      <td>2018-12-08 20:26:22</td>\n",
       "    </tr>\n",
       "    <tr>\n",
       "      <th>18145</th>\n",
       "      <td>NaT</td>\n",
       "      <td>46887</td>\n",
       "      <td>2018-12-14 03:27:28</td>\n",
       "    </tr>\n",
       "    <tr>\n",
       "      <th>18146</th>\n",
       "      <td>NaT</td>\n",
       "      <td>46996</td>\n",
       "      <td>2018-12-16 01:06:43</td>\n",
       "    </tr>\n",
       "    <tr>\n",
       "      <th>18147</th>\n",
       "      <td>NaT</td>\n",
       "      <td>47330</td>\n",
       "      <td>2018-12-22 17:51:42</td>\n",
       "    </tr>\n",
       "  </tbody>\n",
       "</table>\n",
       "<p>18148 rows × 3 columns</p>\n",
       "</div>"
      ],
      "text/plain": [
       "                start_tut  user_id         start_level\n",
       "0     2018-01-01 17:47:40    27833                 NaT\n",
       "1     2018-01-01 19:46:11    27834                 NaT\n",
       "2     2018-01-01 15:00:51    27835 2018-01-01 20:37:22\n",
       "3     2018-01-01 14:54:40    27836                 NaT\n",
       "4     2018-01-01 15:40:43    27836                 NaT\n",
       "...                   ...      ...                 ...\n",
       "18143                 NaT    46472 2018-12-07 16:47:23\n",
       "18144                 NaT    46548 2018-12-08 20:26:22\n",
       "18145                 NaT    46887 2018-12-14 03:27:28\n",
       "18146                 NaT    46996 2018-12-16 01:06:43\n",
       "18147                 NaT    47330 2018-12-22 17:51:42\n",
       "\n",
       "[18148 rows x 3 columns]"
      ]
     },
     "metadata": {},
     "output_type": "display_data"
    }
   ],
   "source": [
    "# объединим две таблицы\n",
    "df3 = total_df3_tut.merge(total_df3_level, on = 'user_id', how = 'outer')\n",
    "display(df3)"
   ]
  },
  {
   "cell_type": "markdown",
   "metadata": {},
   "source": [
    "3.    \n",
    "    2. Выделим события выбора уровня сложности РАНЬШЕ начала обучения среди всех фактов обучения.  "
   ]
  },
  {
   "cell_type": "code",
   "execution_count": 27,
   "metadata": {},
   "outputs": [
    {
     "data": {
      "text/html": [
       "<div>\n",
       "<style scoped>\n",
       "    .dataframe tbody tr th:only-of-type {\n",
       "        vertical-align: middle;\n",
       "    }\n",
       "\n",
       "    .dataframe tbody tr th {\n",
       "        vertical-align: top;\n",
       "    }\n",
       "\n",
       "    .dataframe thead th {\n",
       "        text-align: right;\n",
       "    }\n",
       "</style>\n",
       "<table border=\"1\" class=\"dataframe\">\n",
       "  <thead>\n",
       "    <tr style=\"text-align: right;\">\n",
       "      <th></th>\n",
       "      <th>start_tut</th>\n",
       "      <th>user_id</th>\n",
       "      <th>start_level</th>\n",
       "      <th>int_tut_level</th>\n",
       "    </tr>\n",
       "  </thead>\n",
       "  <tbody>\n",
       "    <tr>\n",
       "      <th>0</th>\n",
       "      <td>2018-01-01 17:47:40</td>\n",
       "      <td>27833</td>\n",
       "      <td>NaT</td>\n",
       "      <td>NaN</td>\n",
       "    </tr>\n",
       "    <tr>\n",
       "      <th>1</th>\n",
       "      <td>2018-01-01 19:46:11</td>\n",
       "      <td>27834</td>\n",
       "      <td>NaT</td>\n",
       "      <td>NaN</td>\n",
       "    </tr>\n",
       "    <tr>\n",
       "      <th>2</th>\n",
       "      <td>2018-01-01 15:00:51</td>\n",
       "      <td>27835</td>\n",
       "      <td>2018-01-01 20:37:22</td>\n",
       "      <td>5.608611</td>\n",
       "    </tr>\n",
       "    <tr>\n",
       "      <th>3</th>\n",
       "      <td>2018-01-01 14:54:40</td>\n",
       "      <td>27836</td>\n",
       "      <td>NaT</td>\n",
       "      <td>NaN</td>\n",
       "    </tr>\n",
       "    <tr>\n",
       "      <th>4</th>\n",
       "      <td>2018-01-01 15:40:43</td>\n",
       "      <td>27836</td>\n",
       "      <td>NaT</td>\n",
       "      <td>NaN</td>\n",
       "    </tr>\n",
       "    <tr>\n",
       "      <th>...</th>\n",
       "      <td>...</td>\n",
       "      <td>...</td>\n",
       "      <td>...</td>\n",
       "      <td>...</td>\n",
       "    </tr>\n",
       "    <tr>\n",
       "      <th>18143</th>\n",
       "      <td>NaT</td>\n",
       "      <td>46472</td>\n",
       "      <td>2018-12-07 16:47:23</td>\n",
       "      <td>NaN</td>\n",
       "    </tr>\n",
       "    <tr>\n",
       "      <th>18144</th>\n",
       "      <td>NaT</td>\n",
       "      <td>46548</td>\n",
       "      <td>2018-12-08 20:26:22</td>\n",
       "      <td>NaN</td>\n",
       "    </tr>\n",
       "    <tr>\n",
       "      <th>18145</th>\n",
       "      <td>NaT</td>\n",
       "      <td>46887</td>\n",
       "      <td>2018-12-14 03:27:28</td>\n",
       "      <td>NaN</td>\n",
       "    </tr>\n",
       "    <tr>\n",
       "      <th>18146</th>\n",
       "      <td>NaT</td>\n",
       "      <td>46996</td>\n",
       "      <td>2018-12-16 01:06:43</td>\n",
       "      <td>NaN</td>\n",
       "    </tr>\n",
       "    <tr>\n",
       "      <th>18147</th>\n",
       "      <td>NaT</td>\n",
       "      <td>47330</td>\n",
       "      <td>2018-12-22 17:51:42</td>\n",
       "      <td>NaN</td>\n",
       "    </tr>\n",
       "  </tbody>\n",
       "</table>\n",
       "<p>18148 rows × 4 columns</p>\n",
       "</div>"
      ],
      "text/plain": [
       "                start_tut  user_id         start_level  int_tut_level\n",
       "0     2018-01-01 17:47:40    27833                 NaT            NaN\n",
       "1     2018-01-01 19:46:11    27834                 NaT            NaN\n",
       "2     2018-01-01 15:00:51    27835 2018-01-01 20:37:22       5.608611\n",
       "3     2018-01-01 14:54:40    27836                 NaT            NaN\n",
       "4     2018-01-01 15:40:43    27836                 NaT            NaN\n",
       "...                   ...      ...                 ...            ...\n",
       "18143                 NaT    46472 2018-12-07 16:47:23            NaN\n",
       "18144                 NaT    46548 2018-12-08 20:26:22            NaN\n",
       "18145                 NaT    46887 2018-12-14 03:27:28            NaN\n",
       "18146                 NaT    46996 2018-12-16 01:06:43            NaN\n",
       "18147                 NaT    47330 2018-12-22 17:51:42            NaN\n",
       "\n",
       "[18148 rows x 4 columns]"
      ]
     },
     "metadata": {},
     "output_type": "display_data"
    }
   ],
   "source": [
    "# создадим столбец с интервалом между обучением и выбором уровня\n",
    "df3['int_tut_level'] = (df3['start_level'] - df3['start_tut'])/pd.Timedelta('1 hour')\n",
    "display(df3)"
   ]
  },
  {
   "cell_type": "code",
   "execution_count": 28,
   "metadata": {},
   "outputs": [
    {
     "name": "stdout",
     "output_type": "stream",
     "text": [
      "Количество случаев выбора уровня сложности раньше обучения: 2792\n"
     ]
    }
   ],
   "source": [
    "# найдем количество случаев, когда обучение было позже выбора уровня (int_tut_level < 0)\n",
    "cnt_level_befor_tut = df3[df3['int_tut_level'] < 0].count()['int_tut_level']\n",
    "print('Количество случаев выбора уровня сложности раньше обучения:', cnt_level_befor_tut)"
   ]
  },
  {
   "cell_type": "markdown",
   "metadata": {},
   "source": [
    "3. \n",
    "    3.  Определим долю таких случаев в общем количестве случаев выбора уровня и в общем количестве случаев обучения. Сделать выводы"
   ]
  },
  {
   "cell_type": "code",
   "execution_count": 29,
   "metadata": {},
   "outputs": [
    {
     "name": "stdout",
     "output_type": "stream",
     "text": [
      "Доля случаев обращения к обучению после выбора уровня игры от всех случаев выбора уровня: 33.5%\n",
      "Доля случаев обрашения к обучению после выбора уровня игры от всех случаев обучения: 15.5%\n"
     ]
    }
   ],
   "source": [
    "# Доля случаев когда пользователи, выбравшие уровень игры, после этого выбирали обучение\n",
    "proc_tut_after_lev_of_lev = cnt_level_befor_tut / cnt_level \n",
    "print('Доля случаев обращения к обучению после выбора уровня игры от всех случаев выбора уровня: {:.1%}'.format(proc_tut_after_lev_of_lev))\n",
    "# Доля случаев, когда пользователи, выбравшие обучение, выбирали его после выбора уровня\n",
    "proc_tut_after_lev_of_tut = cnt_level_befor_tut / cnt_all_tut \n",
    "print('Доля случаев обрашения к обучению после выбора уровня игры от всех случаев обучения: {:.1%}'.format(proc_tut_after_lev_of_tut))\n"
   ]
  },
  {
   "cell_type": "markdown",
   "metadata": {},
   "source": [
    "### Выводы по гипотезе 3:\n",
    "\n",
    "1. Дальнейший Анализ поведения пользователей показал, что в 33,5% от всех случаев выбора уровеня сложности пользователи возвращаются к обучению.\n",
    "2. И из всех фактоа обращения к обучению 15,5% происходит уже после выбора уровня игры.\n",
    "\n",
    "### Таким образом, Гипотеза 3 подтверждается: В 33,5% от всех случаев выбора уровня игры пользователи возвращаются к обучению, значит, взаимодействие в игровым приложением непонятна."
   ]
  },
  {
   "cell_type": "markdown",
   "metadata": {},
   "source": [
    "### Итог:\n",
    "#### Гипотеза 1 подтверждается: Прохождение обучения на 10% ускоряет принятие решения пользователя об оплате игры, иными словами, ускоряет процесс конверсии. \n",
    "\n",
    "#### Гипотеза 2 Не подтверждается: существенной зависимости вероятности оплаты от количества обучений не выявлено. \n",
    "\n",
    "#### Гипотеза 3 подтверждается: В 33,5% от всех случаев выбора уровня игры пользователи возвращаются к обучению, значит, взаимодействие в игровым приложением непонятна."
   ]
  }
 ],
 "metadata": {
  "kernelspec": {
   "display_name": "Python 3.9.10 64-bit",
   "language": "python",
   "name": "python3"
  },
  "language_info": {
   "codemirror_mode": {
    "name": "ipython",
    "version": 3
   },
   "file_extension": ".py",
   "mimetype": "text/x-python",
   "name": "python",
   "nbconvert_exporter": "python",
   "pygments_lexer": "ipython3",
   "version": "3.9.10"
  },
  "orig_nbformat": 4,
  "vscode": {
   "interpreter": {
    "hash": "11938c6bc6919ae2720b4d5011047913343b08a43b18698fd82dedb0d4417594"
   }
  }
 },
 "nbformat": 4,
 "nbformat_minor": 2
}
